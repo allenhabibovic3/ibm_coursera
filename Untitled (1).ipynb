{
 "cells": [
  {
   "cell_type": "markdown",
   "id": "9ee71c37-b676-4634-b335-73a20c7b411f",
   "metadata": {},
   "source": [
    "# My python code"
   ]
  },
  {
   "cell_type": "markdown",
   "id": "af18e8c2-da77-47c8-ac81-c0ac5e27ce65",
   "metadata": {},
   "source": [
    "**My name is allen welcome to my notebook i am a data analyst**"
   ]
  },
  {
   "cell_type": "markdown",
   "id": "470fe23d-88be-4cf6-aa86-2bb76a91325a",
   "metadata": {},
   "source": [
    "Data science languages:\n",
    "\n",
    "1. Python\n",
    "2. R\n",
    "3. Scala\n",
    "4. SQL"
   ]
  },
  {
   "cell_type": "markdown",
   "id": "520018df-e415-4f3a-a4fe-acd52e53482b",
   "metadata": {},
   "source": [
    "Data science libraries:\n",
    "\n",
    "1. SKLEARN\n",
    "2. NUMPY\n",
    "3. PANDAS\n",
    "4. SCIPY\n",
    "5. TENSORFLOW\n",
    "6. NLTK"
   ]
  },
  {
   "cell_type": "markdown",
   "id": "2c84b2e5-0fd8-4d74-9fc1-50bfcf8d2a95",
   "metadata": {},
   "source": [
    "Data science tools:\n",
    "\n",
    "1. Anaconda\n",
    "2. Github\n",
    "3. Rstudio\n",
    "4. Hadoop\n",
    "5. Apache Spark\n",
    "6. MongoDB"
   ]
  },
  {
   "cell_type": "markdown",
   "id": "dfaa8ce7-749c-45f2-8caf-7aeac9199ca2",
   "metadata": {},
   "source": [
    "ARITHMETIC EXAMPLES\n",
    "\n",
    "1 + 1\n",
    "\n",
    "(20 * 2) + 3\n",
    "\n",
    "5 ** 2"
   ]
  },
  {
   "cell_type": "code",
   "execution_count": 1,
   "id": "a0521c50-be65-4d75-9c79-8fde41943e5a",
   "metadata": {
    "tags": []
   },
   "outputs": [
    {
     "data": {
      "text/plain": [
       "102"
      ]
     },
     "execution_count": 1,
     "metadata": {},
     "output_type": "execute_result"
    }
   ],
   "source": [
    "20*5 + 2"
   ]
  },
  {
   "cell_type": "code",
   "execution_count": 2,
   "id": "1eb5eb7f-4e1e-48a2-954f-9c20df8e3389",
   "metadata": {
    "tags": []
   },
   "outputs": [],
   "source": [
    "minutes = 30\n",
    "\n",
    "hours = minutes/60"
   ]
  },
  {
   "cell_type": "markdown",
   "id": "e593ba18-b149-4989-9af5-964eabd48669",
   "metadata": {},
   "source": [
    "# OBJECTIVES"
   ]
  },
  {
   "cell_type": "markdown",
   "id": "d4ef3244-24d1-4fe4-8c48-751277dd1237",
   "metadata": {},
   "source": [
    "# author allen habibovic"
   ]
  },
  {
   "cell_type": "code",
   "execution_count": null,
   "id": "18579514-32ac-41bd-be38-223345200831",
   "metadata": {},
   "outputs": [],
   "source": []
  }
 ],
 "metadata": {
  "kernelspec": {
   "display_name": "Python",
   "language": "python",
   "name": "conda-env-python-py"
  },
  "language_info": {
   "codemirror_mode": {
    "name": "ipython",
    "version": 3
   },
   "file_extension": ".py",
   "mimetype": "text/x-python",
   "name": "python",
   "nbconvert_exporter": "python",
   "pygments_lexer": "ipython3",
   "version": "3.7.12"
  }
 },
 "nbformat": 4,
 "nbformat_minor": 5
}
